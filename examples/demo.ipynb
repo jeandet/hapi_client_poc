{
 "cells": [
  {
   "cell_type": "code",
   "execution_count": 10,
   "metadata": {
    "ExecuteTime": {
     "end_time": "2020-11-25T10:12:03.412907Z",
     "start_time": "2020-11-25T10:12:03.407328Z"
    }
   },
   "outputs": [],
   "source": [
    "import sys\n",
    "if '../' not in sys.path:\n",
    "    sys.path.append('../')\n",
    "from datetime import datetime, timedelta\n",
    "from dateutil import parser"
   ]
  },
  {
   "cell_type": "code",
   "execution_count": 2,
   "metadata": {
    "ExecuteTime": {
     "end_time": "2020-11-25T10:10:12.864266Z",
     "start_time": "2020-11-25T10:10:12.465549Z"
    }
   },
   "outputs": [],
   "source": [
    "import hapi_client_poc as hapi"
   ]
  },
  {
   "cell_type": "markdown",
   "metadata": {},
   "source": [
    "# Server Capabilities"
   ]
  },
  {
   "cell_type": "code",
   "execution_count": 3,
   "metadata": {
    "ExecuteTime": {
     "end_time": "2020-11-25T10:10:14.202395Z",
     "start_time": "2020-11-25T10:10:13.713319Z"
    }
   },
   "outputs": [
    {
     "name": "stdout",
     "output_type": "stream",
     "text": [
      "<class 'hapi_client_poc.Capabilities'>\n",
      "['csv', 'binary', 'json']\n",
      "{\n",
      " \"outputFormats\": [\n",
      "  \"csv\",\n",
      "  \"binary\",\n",
      "  \"json\"\n",
      " ]\n",
      "}\n"
     ]
    }
   ],
   "source": [
    "capabilities = hapi.get_capabilities('http://hapi-server.org/servers/SSCWeb/hapi')\n",
    "print(type(capabilities))\n",
    "print(capabilities.outputFormats)\n",
    "print(capabilities)"
   ]
  },
  {
   "cell_type": "markdown",
   "metadata": {},
   "source": [
    "# Server Catalog"
   ]
  },
  {
   "cell_type": "code",
   "execution_count": 4,
   "metadata": {
    "ExecuteTime": {
     "end_time": "2020-11-25T10:10:15.764881Z",
     "start_time": "2020-11-25T10:10:15.306421Z"
    },
    "scrolled": false
   },
   "outputs": [
    {
     "name": "stdout",
     "output_type": "stream",
     "text": [
      "[Dataset:\n",
      " id: ace\n",
      " title: ACE, Dataset:\n",
      " id: active\n",
      " title: Active, Dataset:\n",
      " id: aerocube6a\n",
      " title: AEROCUBE-6A]\n"
     ]
    }
   ],
   "source": [
    "catalog = hapi.get_catalog('http://hapi-server.org/servers/SSCWeb/hapi')\n",
    "type(catalog)\n",
    "print(catalog[:3])"
   ]
  },
  {
   "cell_type": "markdown",
   "metadata": {},
   "source": [
    "## Dataset"
   ]
  },
  {
   "cell_type": "code",
   "execution_count": 5,
   "metadata": {
    "ExecuteTime": {
     "end_time": "2020-11-25T10:10:16.281704Z",
     "start_time": "2020-11-25T10:10:16.276932Z"
    }
   },
   "outputs": [
    {
     "name": "stdout",
     "output_type": "stream",
     "text": [
      "<class 'hapi_client_poc.Dataset'>\n",
      "Dataset:\n",
      " id: aerocube6a\n",
      " title: AEROCUBE-6A\n"
     ]
    }
   ],
   "source": [
    "dataset = catalog[2]\n",
    "print(type(dataset))\n",
    "print(dataset)"
   ]
  },
  {
   "cell_type": "markdown",
   "metadata": {},
   "source": [
    "### Dataset description"
   ]
  },
  {
   "cell_type": "code",
   "execution_count": 6,
   "metadata": {
    "ExecuteTime": {
     "end_time": "2020-11-25T10:10:17.736611Z",
     "start_time": "2020-11-25T10:10:17.263161Z"
    }
   },
   "outputs": [
    {
     "name": "stdout",
     "output_type": "stream",
     "text": [
      "DatasetInfo:\n",
      " startDate: 2014-06-29T00:00:00.000Z\n",
      " stopDate: 2020-12-13T00:00:00.000Z\n",
      " parameters:   Time:   Parameter:\n",
      "   name: Time\n",
      "   type: isotime\n",
      "   units: UTC\n",
      "   fill: None\n",
      "   length: 18\n",
      "  X_TOD:   Parameter:\n",
      "   name: X_TOD\n",
      "   type: double\n",
      "   units: R_E\n",
      "   description: X Position in the Geocentric Equatorial Inertial coordinate system, also known as True Equator and True Equinox of Date, True of Date TOD, ECI, or GCI\n",
      "   fill: 1e31\n",
      "  Y_TOD:   Parameter:\n",
      "   name: Y_TOD\n",
      "   type: double\n",
      "   uni\n"
     ]
    }
   ],
   "source": [
    "print(str(dataset.description)[:500])"
   ]
  },
  {
   "cell_type": "markdown",
   "metadata": {},
   "source": [
    "## Parameters"
   ]
  },
  {
   "cell_type": "code",
   "execution_count": 7,
   "metadata": {
    "ExecuteTime": {
     "end_time": "2020-11-25T10:10:18.257769Z",
     "start_time": "2020-11-25T10:10:18.249027Z"
    },
    "scrolled": false
   },
   "outputs": [
    {
     "name": "stdout",
     "output_type": "stream",
     "text": [
      "{'Time': Parameter:\n",
      " name: Time\n",
      " type: isotime\n",
      " units: UTC\n",
      " fill: None\n",
      " length: 18, 'X_TOD': Parameter:\n",
      " name: X_TOD\n",
      " type: double\n",
      " units: R_E\n",
      " description: X Position in the Geocentric Equatorial Inertial coordinate system, also known as True Equator and True Equinox of Date, True of Date TOD, ECI, or GCI\n",
      " fill: 1e31, 'Y_TOD': Parameter:\n",
      " name: Y_TOD\n",
      " type: double\n",
      " units: R_E\n",
      " description: Y Position in the Geocentric Equatorial Inertial coordinate system, also known as True Equator and True Eq\n"
     ]
    }
   ],
   "source": [
    "print(str(dataset.description.parameters)[:500])"
   ]
  },
  {
   "cell_type": "markdown",
   "metadata": {},
   "source": [
    "# Data"
   ]
  },
  {
   "cell_type": "code",
   "execution_count": 14,
   "metadata": {
    "ExecuteTime": {
     "end_time": "2020-11-25T10:13:45.181651Z",
     "start_time": "2020-11-25T10:13:38.009536Z"
    }
   },
   "outputs": [],
   "source": [
    "start = parser.parse(dataset.description.startDate, fuzzy=True)\n",
    "\n",
    "data=hapi.get_data('http://hapi-server.org/servers/SSCWeb/hapi', dataset.id, start+timedelta(days=500), start+timedelta(days=501))"
   ]
  },
  {
   "cell_type": "code",
   "execution_count": 18,
   "metadata": {
    "ExecuteTime": {
     "end_time": "2020-11-25T10:14:18.434617Z",
     "start_time": "2020-11-25T10:14:18.428865Z"
    }
   },
   "outputs": [
    {
     "data": {
      "text/plain": [
       "('2014-06-29T00:00:00.000Z', '2020-12-13T00:00:00.000Z')"
      ]
     },
     "execution_count": 18,
     "metadata": {},
     "output_type": "execute_result"
    }
   ],
   "source": [
    "dataset.description.startDate, dataset.description.stopDate"
   ]
  },
  {
   "cell_type": "markdown",
   "metadata": {},
   "source": [
    "# Caching\n",
    "Successful requests are cached so abusing API cost nothing for both server and client"
   ]
  },
  {
   "cell_type": "code",
   "execution_count": 14,
   "metadata": {
    "ExecuteTime": {
     "end_time": "2020-11-25T09:55:52.674875Z",
     "start_time": "2020-11-25T09:55:42.289094Z"
    }
   },
   "outputs": [
    {
     "name": "stdout",
     "output_type": "stream",
     "text": [
      "1.28 µs ± 5.92 ns per loop (mean ± std. dev. of 7 runs, 1000000 loops each)\n"
     ]
    }
   ],
   "source": [
    "%timeit hapi.get_catalog('http://hapi-server.org/servers/SSCWeb/hapi')"
   ]
  }
 ],
 "metadata": {
  "kernelspec": {
   "display_name": "Python 3",
   "language": "python",
   "name": "python3"
  },
  "language_info": {
   "codemirror_mode": {
    "name": "ipython",
    "version": 3
   },
   "file_extension": ".py",
   "mimetype": "text/x-python",
   "name": "python",
   "nbconvert_exporter": "python",
   "pygments_lexer": "ipython3",
   "version": "3.9.0"
  },
  "varInspector": {
   "cols": {
    "lenName": 16,
    "lenType": 16,
    "lenVar": 40
   },
   "kernels_config": {
    "python": {
     "delete_cmd_postfix": "",
     "delete_cmd_prefix": "del ",
     "library": "var_list.py",
     "varRefreshCmd": "print(var_dic_list())"
    },
    "r": {
     "delete_cmd_postfix": ") ",
     "delete_cmd_prefix": "rm(",
     "library": "var_list.r",
     "varRefreshCmd": "cat(var_dic_list()) "
    }
   },
   "types_to_exclude": [
    "module",
    "function",
    "builtin_function_or_method",
    "instance",
    "_Feature"
   ],
   "window_display": false
  }
 },
 "nbformat": 4,
 "nbformat_minor": 4
}
