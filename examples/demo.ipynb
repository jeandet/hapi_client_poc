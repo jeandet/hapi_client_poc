{
 "cells": [
  {
   "cell_type": "code",
   "execution_count": 1,
   "metadata": {
    "ExecuteTime": {
     "end_time": "2020-11-25T17:54:41.746550Z",
     "start_time": "2020-11-25T17:54:41.484838Z"
    }
   },
   "outputs": [],
   "source": [
    "%matplotlib inline\n",
    "import sys\n",
    "if '../' not in sys.path:\n",
    "    sys.path.append('../')\n",
    "from datetime import datetime, timedelta\n",
    "from dateutil import parser\n",
    "import logging\n",
    "logging.basicConfig()"
   ]
  },
  {
   "cell_type": "code",
   "execution_count": 2,
   "metadata": {
    "ExecuteTime": {
     "end_time": "2020-11-25T17:54:42.497192Z",
     "start_time": "2020-11-25T17:54:42.248773Z"
    }
   },
   "outputs": [],
   "source": [
    "import hapi_client_poc as hapi\n",
    "hapi.log.setLevel(logging.DEBUG)"
   ]
  },
  {
   "cell_type": "markdown",
   "metadata": {},
   "source": [
    "# Server Capabilities"
   ]
  },
  {
   "cell_type": "code",
   "execution_count": 3,
   "metadata": {
    "ExecuteTime": {
     "end_time": "2020-11-25T17:54:43.102495Z",
     "start_time": "2020-11-25T17:54:42.911280Z"
    }
   },
   "outputs": [
    {
     "name": "stderr",
     "output_type": "stream",
     "text": [
      "DEBUG:hapi_client_poc:New request url:  http://hapi-server.org/servers/SSCWeb/hapi/capabilities?\n",
      "DEBUG:hapi_client_poc:success!\n"
     ]
    },
    {
     "name": "stdout",
     "output_type": "stream",
     "text": [
      "<class 'hapi_client_poc.Capabilities'>\n",
      "['csv', 'binary', 'json']\n",
      "{\n",
      " \"outputFormats\": [\n",
      "  \"csv\",\n",
      "  \"binary\",\n",
      "  \"json\"\n",
      " ]\n",
      "}\n"
     ]
    }
   ],
   "source": [
    "capabilities = hapi.get_capabilities('http://hapi-server.org/servers/SSCWeb/hapi')\n",
    "print(type(capabilities))\n",
    "print(capabilities.outputFormats)\n",
    "print(capabilities)"
   ]
  },
  {
   "cell_type": "markdown",
   "metadata": {},
   "source": [
    "# Server Catalog"
   ]
  },
  {
   "cell_type": "code",
   "execution_count": 4,
   "metadata": {
    "ExecuteTime": {
     "end_time": "2020-11-25T17:54:43.628395Z",
     "start_time": "2020-11-25T17:54:43.438747Z"
    },
    "scrolled": false
   },
   "outputs": [
    {
     "name": "stderr",
     "output_type": "stream",
     "text": [
      "DEBUG:hapi_client_poc:New request url:  http://hapi-server.org/servers/SSCWeb/hapi/catalog?\n",
      "DEBUG:hapi_client_poc:success!\n"
     ]
    },
    {
     "name": "stdout",
     "output_type": "stream",
     "text": [
      "[Dataset:\n",
      " id: ace\n",
      " title: ACE, Dataset:\n",
      " id: active\n",
      " title: Active, Dataset:\n",
      " id: aerocube6a\n",
      " title: AEROCUBE-6A]\n"
     ]
    }
   ],
   "source": [
    "catalog = hapi.get_catalog('http://hapi-server.org/servers/SSCWeb/hapi')\n",
    "type(catalog)\n",
    "print(catalog[:3])"
   ]
  },
  {
   "cell_type": "markdown",
   "metadata": {},
   "source": [
    "## Dataset"
   ]
  },
  {
   "cell_type": "code",
   "execution_count": 5,
   "metadata": {
    "ExecuteTime": {
     "end_time": "2020-11-25T17:54:43.953806Z",
     "start_time": "2020-11-25T17:54:43.950650Z"
    }
   },
   "outputs": [
    {
     "name": "stdout",
     "output_type": "stream",
     "text": [
      "<class 'hapi_client_poc.Dataset'>\n",
      "Dataset:\n",
      " id: aerocube6a\n",
      " title: AEROCUBE-6A\n"
     ]
    }
   ],
   "source": [
    "dataset = catalog[2]\n",
    "print(type(dataset))\n",
    "print(dataset)"
   ]
  },
  {
   "cell_type": "markdown",
   "metadata": {},
   "source": [
    "### Dataset description"
   ]
  },
  {
   "cell_type": "code",
   "execution_count": 6,
   "metadata": {
    "ExecuteTime": {
     "end_time": "2020-11-25T17:54:44.799155Z",
     "start_time": "2020-11-25T17:54:44.607410Z"
    }
   },
   "outputs": [
    {
     "name": "stderr",
     "output_type": "stream",
     "text": [
      "DEBUG:hapi_client_poc:New request url:  http://hapi-server.org/servers/SSCWeb/hapi/info?id=aerocube6a\n",
      "DEBUG:hapi_client_poc:success!\n"
     ]
    },
    {
     "name": "stdout",
     "output_type": "stream",
     "text": [
      "DatasetInfo:\n",
      " startDate: 2014-06-29T00:00:00.000Z\n",
      " stopDate: 2020-12-13T00:00:00.000Z\n",
      " parameters:   Time:   Parameter:\n",
      "   name: Time\n",
      "   type: isotime\n",
      "   units: UTC\n",
      "   fill: None\n",
      "   length: 18\n",
      "  X_TOD:   Parameter:\n",
      "   name: X_TOD\n",
      "   type: double\n",
      "   units: R_E\n",
      "   description: X Position in the Geocentric Equatorial Inertial coordinate system, also known as True Equator and True Equinox of Date, True of Date TOD, ECI, or GCI\n",
      "   fill: 1e31\n",
      "  Y_TOD:   Parameter:\n",
      "   name: Y_TOD\n",
      "   type: double\n",
      "   uni\n"
     ]
    }
   ],
   "source": [
    "print(str(dataset.description)[:500])"
   ]
  },
  {
   "cell_type": "markdown",
   "metadata": {},
   "source": [
    "## Parameters"
   ]
  },
  {
   "cell_type": "code",
   "execution_count": 7,
   "metadata": {
    "ExecuteTime": {
     "end_time": "2020-11-25T17:54:45.325827Z",
     "start_time": "2020-11-25T17:54:45.321206Z"
    },
    "scrolled": false
   },
   "outputs": [
    {
     "name": "stdout",
     "output_type": "stream",
     "text": [
      "{'Time': Parameter:\n",
      " name: Time\n",
      " type: isotime\n",
      " units: UTC\n",
      " fill: None\n",
      " length: 18, 'X_TOD': Parameter:\n",
      " name: X_TOD\n",
      " type: double\n",
      " units: R_E\n",
      " description: X Position in the Geocentric Equatorial Inertial coordinate system, also known as True Equator and True Equinox of Date, True of Date TOD, ECI, or GCI\n",
      " fill: 1e31, 'Y_TOD': Parameter:\n",
      " name: Y_TOD\n",
      " type: double\n",
      " units: R_E\n",
      " description: Y Position in the Geocentric Equatorial Inertial coordinate system, also known as True Equator and True Eq\n"
     ]
    }
   ],
   "source": [
    "print(str(dataset.description.parameters)[:500])"
   ]
  },
  {
   "cell_type": "markdown",
   "metadata": {},
   "source": [
    "# Data"
   ]
  },
  {
   "cell_type": "code",
   "execution_count": 8,
   "metadata": {
    "ExecuteTime": {
     "end_time": "2020-11-25T17:54:49.168484Z",
     "start_time": "2020-11-25T17:54:46.064450Z"
    }
   },
   "outputs": [
    {
     "name": "stderr",
     "output_type": "stream",
     "text": [
      "DEBUG:hapi_client_poc:New request url:  http://hapi-server.org/servers/SSCWeb/hapi/info?id=aerocube6a\n",
      "DEBUG:hapi_client_poc:success!\n",
      "DEBUG:hapi_client_poc:New request url:  http://hapi-server.org/servers/SSCWeb/hapi/data?id=aerocube6a&time.min=2016-09-06T00:00:00Z&time.max=2016-09-07T00:00:00Z&format=csv\n",
      "DEBUG:hapi_client_poc:success!\n"
     ]
    }
   ],
   "source": [
    "start = parser.parse(dataset.description.startDate, fuzzy=True)\n",
    "\n",
    "data=hapi.get_data('http://hapi-server.org/servers/SSCWeb/hapi', \n",
    "                   dataset.id, \n",
    "                   start+timedelta(days=800), \n",
    "                   start+timedelta(days=801))"
   ]
  },
  {
   "cell_type": "code",
   "execution_count": 9,
   "metadata": {
    "ExecuteTime": {
     "end_time": "2020-11-25T17:54:49.353496Z",
     "start_time": "2020-11-25T17:54:49.211164Z"
    }
   },
   "outputs": [
    {
     "name": "stderr",
     "output_type": "stream",
     "text": [
      "/usr/lib64/python3.9/site-packages/pandas/plotting/_matplotlib/core.py:1192: UserWarning: FixedFormatter should only be used together with FixedLocator\n",
      "  ax.set_xticklabels(xticklabels)\n"
     ]
    },
    {
     "data": {
      "text/plain": [
       "<AxesSubplot:xlabel='0'>"
      ]
     },
     "execution_count": 9,
     "metadata": {},
     "output_type": "execute_result"
    },
    {
     "data": {
      "image/png": "[encoded data removed]",
      "text/plain": [
       "<Figure size 432x288 with 1 Axes>"
      ]
     },
     "metadata": {
      "needs_background": "light"
     },
     "output_type": "display_data"
    }
   ],
   "source": [
    "data[1].plot()"
   ]
  },
  {
   "cell_type": "markdown",
   "metadata": {},
   "source": [
    "# Caching\n",
    "Successful requests are cached so abusing API cost nothing for both server and client"
   ]
  },
  {
   "cell_type": "code",
   "execution_count": 10,
   "metadata": {
    "ExecuteTime": {
     "end_time": "2020-11-25T17:54:53.708668Z",
     "start_time": "2020-11-25T17:54:49.391571Z"
    }
   },
   "outputs": [
    {
     "name": "stdout",
     "output_type": "stream",
     "text": [
      "530 ns ± 2.48 ns per loop (mean ± std. dev. of 7 runs, 1000000 loops each)\n"
     ]
    }
   ],
   "source": [
    "%timeit hapi.get_catalog('http://hapi-server.org/servers/SSCWeb/hapi')"
   ]
  },
  {
   "cell_type": "markdown",
   "metadata": {},
   "source": [
    "# Context managers"
   ]
  },
  {
   "cell_type": "code",
   "execution_count": 15,
   "metadata": {
    "ExecuteTime": {
     "end_time": "2020-11-25T17:57:16.359475Z",
     "start_time": "2020-11-25T17:57:16.353645Z"
    }
   },
   "outputs": [
    {
     "name": "stdout",
     "output_type": "stream",
     "text": [
      "{\n",
      " \"outputFormats\": [\n",
      "  \"csv\",\n",
      "  \"binary\",\n",
      "  \"json\"\n",
      " ]\n",
      "}\n",
      "[Dataset:\n",
      " id: ace\n",
      " title: ACE, Dataset:\n",
      " id: active\n",
      " title: Active, Dataset:\n",
      " id: aerocube6a\n",
      " title: AEROCUBE-6A, Dataset:\n",
      " id: aerocube6b\n",
      " title: AEROCUBE-6B, Dataset:\n",
      " id: aim\n",
      " title: AIM, Dataset:\n",
      " id: akebono\n",
      " title: Akebono, Dataset:\n",
      " id: alouette1\n",
      " title: Alouette-1, Dataset:\n",
      " id: alouette2\n",
      " title: Alouette-2, Dataset:\n",
      " id: apex\n",
      " title: APEX-MAIN, Dataset:\n",
      " id: aqua\n",
      " title: Aqua, Dataset:\n",
      " id: arase\n",
      " title: Arase (ERG), Dataset:\n",
      " id: ariel4\n",
      " title: ARIEL-4, Dataset:\n",
      " id: artemisp1\n",
      " title:\n"
     ]
    }
   ],
   "source": [
    "with hapi.hapi_server('http://hapi-server.org/servers/SSCWeb/hapi') as server:\n",
    "    print(server.get_capabilities())\n",
    "    print(str(server.get_catalog())[:500])"
   ]
  }
 ],
 "metadata": {
  "kernelspec": {
   "display_name": "Python 3",
   "language": "python",
   "name": "python3"
  },
  "language_info": {
   "codemirror_mode": {
    "name": "ipython",
    "version": 3
   },
   "file_extension": ".py",
   "mimetype": "text/x-python",
   "name": "python",
   "nbconvert_exporter": "python",
   "pygments_lexer": "ipython3",
   "version": "3.9.0"
  },
  "toc": {
   "base_numbering": 1,
   "nav_menu": {},
   "number_sections": true,
   "sideBar": true,
   "skip_h1_title": false,
   "title_cell": "Table of Contents",
   "title_sidebar": "Contents",
   "toc_cell": false,
   "toc_position": {},
   "toc_section_display": true,
   "toc_window_display": false
  },
  "varInspector": {
   "cols": {
    "lenName": 16,
    "lenType": 16,
    "lenVar": 40
   },
   "kernels_config": {
    "python": {
     "delete_cmd_postfix": "",
     "delete_cmd_prefix": "del ",
     "library": "var_list.py",
     "varRefreshCmd": "print(var_dic_list())"
    },
    "r": {
     "delete_cmd_postfix": ") ",
     "delete_cmd_prefix": "rm(",
     "library": "var_list.r",
     "varRefreshCmd": "cat(var_dic_list()) "
    }
   },
   "types_to_exclude": [
    "module",
    "function",
    "builtin_function_or_method",
    "instance",
    "_Feature"
   ],
   "window_display": false
  }
 },
 "nbformat": 4,
 "nbformat_minor": 4
}
